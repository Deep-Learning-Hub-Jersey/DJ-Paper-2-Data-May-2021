{
 "cells": [
  {
   "cell_type": "markdown",
   "metadata": {},
   "source": [
    "## Carry out Q&A and document summarisation using the T5 pre-trained and fine-tuned transformer\n",
    "This code is designed to carry out question answering and document summarisation using pdf files. It can equally be used with text documents, just by loading in the text.\n",
    "\n",
    "The notebook itself does the following:\n",
    "- reads in the pdf file identified as 'filename', and cleans up the text\n",
    "- attempts to answer the question against the entire document, and also provides a document summary\n",
    "- presents the answer\n",
    "\n",
    "The model uses a pre-trained and fine tuned version of 't5-large', availabile from the huggingface transformers libraries. The 't5-large model is re-trained using masked language modelling, and next sentence prediction. It is further fine for document summarisation, question answering, language translation, sentiment analysis and other capabilities\n",
    "\n",
    "The model can be further fine tuned using your own dataset through the 6F T5_DEMO_FT using QCA CSV.ipynb notebook. Note, this model is very difficult to fine tune due to its alrady high accuracy, and tuning across a breadth of tasks"
   ]
  },
  {
   "cell_type": "code",
   "execution_count": null,
   "metadata": {},
   "outputs": [],
   "source": [
    "# Load libraries to tokenise and de-tokenise, the T5 model itself, odf extractor and torch libraries\n",
    "from transformers import T5Tokenizer, T5ForConditionalGeneration\n",
    "from pdfminer.high_level import extract_text\n",
    "import torch\n",
    "import torch.nn.functional as F"
   ]
  },
  {
   "cell_type": "code",
   "execution_count": null,
   "metadata": {},
   "outputs": [],
   "source": [
    "# Set document as filename\n",
    "filename = '6D DEMO_GRIDIRONBIONUTRIENTS,INC_02_05_2020-EX-10.3-SUPPLY AGREEMENT.PDF'\n",
    "# Extract text using pdfminer\n",
    "doc = extract_text(filename)\n",
    "#Clean to doc, and output as book\n",
    "book = doc.replace(\"\\n\" , \"\")\n",
    "book = book.replace(\"\\x0c\", \"\")\n",
    "book = book.replace(\"  \", \" \")"
   ]
  },
  {
   "cell_type": "code",
   "execution_count": null,
   "metadata": {},
   "outputs": [],
   "source": [
    "print(doc[:1000])"
   ]
  },
  {
   "cell_type": "code",
   "execution_count": null,
   "metadata": {},
   "outputs": [],
   "source": [
    "tokenizer = T5Tokenizer.from_pretrained('t5-large')\n",
    "model = T5ForConditionalGeneration.from_pretrained('t5-large', return_dict=True, )"
   ]
  },
  {
   "cell_type": "code",
   "execution_count": null,
   "metadata": {},
   "outputs": [],
   "source": [
    "device = torch.device(\"cuda\")\n",
    "model.to(device)"
   ]
  },
  {
   "cell_type": "code",
   "execution_count": null,
   "metadata": {},
   "outputs": [],
   "source": [
    "# Function to answer questions\n",
    "def qa(question):\n",
    "    # Define input using the question and the legal document\n",
    "    another = \"question: \" + question + \" context: \" + book\n",
    "    # Tokenise inputs\n",
    "    input_ids = tokenizer.encode(another, max_length=5000, truncation=True, return_tensors='pt').to(device)\n",
    "    # Predict\n",
    "    outputs = model.generate(input_ids = input_ids)\n",
    "    # De-tokenise output\n",
    "    output_str = tokenizer.decode(outputs.reshape(-1), skip_special_tokens=True)\n",
    "    # Return answer\n",
    "    return output_str"
   ]
  },
  {
   "cell_type": "code",
   "execution_count": null,
   "metadata": {},
   "outputs": [],
   "source": [
    "# Function to summarise the document\n",
    "def summarise(doc_summ):\n",
    "    # Tokenise the book, with prepend of summarise:\n",
    "    input_ids = tokenizer.encode(\"summarize: \" + doc_summ, max_length=5000, truncation=True, return_tensors=\"pt\").to(device)\n",
    "    # Generate summary\n",
    "    outputs = model.generate(input_ids)\n",
    "    # De-tokenise output\n",
    "    outputs_str = tokenizer.decode(outputs.reshape(-1), skip_special_tokens=True)\n",
    "    # Return output\n",
    "    return outputs_str"
   ]
  },
  {
   "cell_type": "code",
   "execution_count": null,
   "metadata": {},
   "outputs": [],
   "source": [
    "summarise(book)"
   ]
  },
  {
   "cell_type": "code",
   "execution_count": null,
   "metadata": {},
   "outputs": [],
   "source": [
    "qa(\"When is the contract dated?\")"
   ]
  },
  {
   "cell_type": "code",
   "execution_count": null,
   "metadata": {},
   "outputs": [],
   "source": [
    "qa(\"Which two parties is the agreement between?\")"
   ]
  },
  {
   "cell_type": "code",
   "execution_count": null,
   "metadata": {},
   "outputs": [],
   "source": [
    "qa(\"What is the pricing of the product?\")"
   ]
  },
  {
   "cell_type": "code",
   "execution_count": null,
   "metadata": {},
   "outputs": [],
   "source": [
    "qa(\"How does the buyer pay for the service?\")"
   ]
  },
  {
   "cell_type": "code",
   "execution_count": null,
   "metadata": {},
   "outputs": [],
   "source": [
    "qa(\"What is the point of delivery for the product?\")"
   ]
  },
  {
   "cell_type": "code",
   "execution_count": null,
   "metadata": {},
   "outputs": [],
   "source": [
    "qa(\"Who can terminate the agreement?\")"
   ]
  },
  {
   "cell_type": "code",
   "execution_count": null,
   "metadata": {},
   "outputs": [],
   "source": [
    "qa(\"Where is the governing law?\")"
   ]
  },
  {
   "cell_type": "code",
   "execution_count": null,
   "metadata": {},
   "outputs": [],
   "source": [
    "qa(\"Which parties witnessed the signing of the contract?\")"
   ]
  },
  {
   "cell_type": "code",
   "execution_count": null,
   "metadata": {},
   "outputs": [],
   "source": [
    "qa(\"What is the Confidential Information clause?\")"
   ]
  },
  {
   "cell_type": "code",
   "execution_count": null,
   "metadata": {},
   "outputs": [],
   "source": [
    "qa(\"When can either party terminate?\")"
   ]
  },
  {
   "cell_type": "code",
   "execution_count": null,
   "metadata": {},
   "outputs": [],
   "source": []
  }
 ],
 "metadata": {
  "kernelspec": {
   "display_name": "Python 3",
   "language": "python",
   "name": "python3"
  },
  "language_info": {
   "codemirror_mode": {
    "name": "ipython",
    "version": 3
   },
   "file_extension": ".py",
   "mimetype": "text/x-python",
   "name": "python",
   "nbconvert_exporter": "python",
   "pygments_lexer": "ipython3",
   "version": "3.8.5"
  }
 },
 "nbformat": 4,
 "nbformat_minor": 4
}
