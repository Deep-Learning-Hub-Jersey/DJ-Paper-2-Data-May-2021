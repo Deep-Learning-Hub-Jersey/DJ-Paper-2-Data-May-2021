{
 "cells": [
  {
   "cell_type": "markdown",
   "metadata": {},
   "source": [
    "## PDF to Text\n",
    "This is a very simple model which carries out two tasks:\n",
    "- read in a .pdf using pdf2image, and convert each page to an image\n",
    "- loops through the first 5 images using the pytesseract library, and converts those images to a single text file "
   ]
  },
  {
   "cell_type": "code",
   "execution_count": null,
   "metadata": {},
   "outputs": [],
   "source": [
    "# Load libratries to convert pdf to image, and image to text\n",
    "import os\n",
    "from PIL import Image\n",
    "import pdf2image\n",
    "import pytesseract\n",
    "import matplotlib.pyplot as plt"
   ]
  },
  {
   "cell_type": "code",
   "execution_count": null,
   "metadata": {},
   "outputs": [],
   "source": [
    "# Open doc\n",
    "path = '1D DEMO_CreditcardscomInc_20070810_S-1_EX-10.33_362297_EX-10.33_Affiliate Agreement.pdf'\n",
    "doc = pdf2image.convert_from_path(path)"
   ]
  },
  {
   "cell_type": "code",
   "execution_count": null,
   "metadata": {},
   "outputs": [],
   "source": [
    "# Show first page of image\n",
    "plt.imshow(doc[0])"
   ]
  },
  {
   "cell_type": "code",
   "execution_count": null,
   "metadata": {},
   "outputs": [],
   "source": [
    "# Loop through 1st 5 images, and use pytesseract to extract text\n",
    "doc_out = []\n",
    "for page_no in range(5):\n",
    "    page = doc[page_no]\n",
    "    txt = pytesseract.image_to_string(page)\n",
    "    doc_out.append(txt)"
   ]
  },
  {
   "cell_type": "code",
   "execution_count": null,
   "metadata": {},
   "outputs": [],
   "source": [
    "print(doc_out)"
   ]
  },
  {
   "cell_type": "code",
   "execution_count": null,
   "metadata": {},
   "outputs": [],
   "source": [
    "# Save doc\n",
    "out = open('dl_doc.txt', \"w\")\n",
    "out.writelines(doc_out)\n",
    "out.close()"
   ]
  },
  {
   "cell_type": "code",
   "execution_count": null,
   "metadata": {},
   "outputs": [],
   "source": []
  }
 ],
 "metadata": {
  "kernelspec": {
   "display_name": "Python 3",
   "language": "python",
   "name": "python3"
  },
  "language_info": {
   "codemirror_mode": {
    "name": "ipython",
    "version": 3
   },
   "file_extension": ".py",
   "mimetype": "text/x-python",
   "name": "python",
   "nbconvert_exporter": "python",
   "pygments_lexer": "ipython3",
   "version": "3.8.5"
  }
 },
 "nbformat": 4,
 "nbformat_minor": 4
}
